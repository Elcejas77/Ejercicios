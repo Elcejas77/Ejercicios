{
  "nbformat": 4,
  "nbformat_minor": 0,
  "metadata": {
    "colab": {
      "private_outputs": true,
      "provenance": [],
      "include_colab_link": true
    },
    "kernelspec": {
      "name": "python3",
      "display_name": "Python 3"
    },
    "language_info": {
      "name": "python"
    }
  },
  "cells": [
    {
      "cell_type": "markdown",
      "metadata": {
        "id": "view-in-github",
        "colab_type": "text"
      },
      "source": [
        "<a href=\"https://colab.research.google.com/github/Elcejas77/Ejercicios/blob/main/youtube_detector.ipynb\" target=\"_parent\"><img src=\"https://colab.research.google.com/assets/colab-badge.svg\" alt=\"Open In Colab\"/></a>"
      ]
    },
    {
      "cell_type": "markdown",
      "source": [
        "# DETECTOR DE GENERO"
      ],
      "metadata": {
        "id": "oR6PR9EFjxiM"
      }
    },
    {
      "cell_type": "code",
      "execution_count": null,
      "metadata": {
        "id": "qmaPHWwtvLHa"
      },
      "outputs": [],
      "source": [
        "#cargar datos desde drive acceso li\n",
        "FILEID = \"1yFZgmduLRmj9j3544uoiU_kQtrdL_r-O\"\n",
        "\n",
        "!wget --load-cookies /tmp/cookies.txt \"https://docs.google.com/uc?export=download&confirm=$(wget --quiet --save-cookies /tmp/cookies.txt --keep-session-cookies --no-check-certificate 'https://docs.google.com/uc?export=download&id='$FILEID -O- | sed -rn 's/.*confirm=([0-9A-Za-z_]+).*/\\1\\n/p')&id=\"$FILEID -O  canciones.xlsx && rm -rf /tmp/cookies.txt\n",
        "#!unzip -o codigos.zip\n",
        "!dir"
      ]
    },
    {
      "cell_type": "code",
      "source": [
        "import pandas as pd\n",
        "import numpy as np\n",
        "import matplotlib.pyplot as plt\n",
        "\n",
        "file_ = 'canciones.xlsx'#leer archivo xlsx con link, band, type\n",
        "X  = pd.read_excel(file_)\n",
        "X#imprimir filas iniciales"
      ],
      "metadata": {
        "id": "NF9zfZdPv7JN"
      },
      "execution_count": null,
      "outputs": []
    },
    {
      "cell_type": "code",
      "source": [
        "#instalar librerias necesarias para descargar audios youtube\n",
        "!python3 -m pip install --force-reinstall https://github.com/yt-dlp/yt-dlp/archive/master.tar.gz\n",
        "!pip install soundfile\n",
        "\n",
        "!pip install typing-extensions==4.8.0\n",
        "!pip install --upgrade tensorflow\n",
        "!pip install fastapi==0.103.0\n",
        "!pip install pytube\n",
        "import os\n",
        "import yt_dlp as youtube_dl\n",
        "\n",
        "#funcion para descargar mp3 desde youtube\n",
        "def download_ytvid_as_mp3(video_url,name):\n",
        "    #video_url = input(\"enter url of youtube video:\")\n",
        "    video_info = youtube_dl.YoutubeDL().extract_info(url = video_url,download=False)\n",
        "    filename = f\"{name}.mp3\"\n",
        "    options={\n",
        "        'format':'bestaudio/best',\n",
        "        'keepvideo':False,\n",
        "        'outtmpl':filename,\n",
        "    }\n",
        "\n",
        "    with youtube_dl.YoutubeDL(options) as ydl:\n",
        "        ydl.download([video_info['webpage_url']])\n",
        "\n",
        "    print(\"Download complete... {}\".format(filename))"
      ],
      "metadata": {
        "id": "-0GnJhn9wYpY"
      },
      "execution_count": null,
      "outputs": []
    },
    {
      "cell_type": "code",
      "source": [
        "import subprocess\n",
        "import os\n",
        "\n",
        "#crear carpeta con resultados\n",
        "try:\n",
        "  os.mkdir('results')\n",
        "except:\n",
        "  print(\"Carpeta results ya existe\")\n",
        "\n",
        "#recorrer excel con videos\n",
        "N, P = X.shape\n",
        "Ns = N * 5 #cantidad de segmentos por cancion\n",
        "\n",
        "for n in range(N):\n",
        "    print(f\"video {n+1} de {N}\")\n",
        "    print(f\"link: {X.loc[n,'link']}\\n\")\n",
        "    print(f\"band: {X.loc[n,'band']}\\n\")\n",
        "    print(f\"type: {X.loc[n,'type']}\\n\")\n",
        "    #ruta video n-th\n",
        "    name_ = 'results/'+X.loc[n,'band']+\"_\"+str(n)+\"_\"+str(X.loc[n,'type_num']) # #video+nombre+tipo de genero musical\n",
        "    #descargar mp3 desde youtube\n",
        "    download_ytvid_as_mp3(X.loc[n,'link'],name_)\n",
        "    #convertir a .wav\n",
        "    subprocess.call(['ffmpeg','-y', '-i', name_+'.mp3',\n",
        "                   name_+'.wav'])"
      ],
      "metadata": {
        "id": "8q0Xv9BcwzeD"
      },
      "execution_count": null,
      "outputs": []
    },
    {
      "cell_type": "code",
      "source": [
        "#cargar .wavs y partir audios\n",
        "#lista archivos .wav\n",
        "path = 'results/'\n",
        "wav_files = [f for f in os.listdir(path) if f.endswith('.wav')]\n",
        "wav_files"
      ],
      "metadata": {
        "id": "gX5bdp-7w--s"
      },
      "execution_count": null,
      "outputs": []
    },
    {
      "cell_type": "code",
      "source": [
        "!pip install soundfile #instalar sondfile"
      ],
      "metadata": {
        "id": "rYfmNwVVzpF-"
      },
      "execution_count": null,
      "outputs": []
    },
    {
      "cell_type": "code",
      "source": [
        "import soundfile as sf # para instalar pip install soundfile\n",
        "#leer archivos y crear np.array audios\n",
        "fs = 48000\n",
        "tl = np.array([40,50,60,70,80,90,100]) #puntos lectura\n",
        "ts = 5 #t segmento\n",
        "Ns = len(wav_files)*len(tl) #cantidad segmentos\n",
        "x_t = np.zeros((Ns,int(ts*fs),2)) #Ns segmentos, cantidad de muestras, 2 canales (stereo)\n",
        "label = np.zeros((Ns,1)) #vector tipo de genero\n",
        "name_c = []\n",
        "#leer archivos wav\n",
        "i = 0\n",
        "for name in wav_files:#lectura audio .wav\n",
        "    x, fs = sf.read(path+name)\n",
        "    for ti in tl: #segmentos de tiempo\n",
        "        x_t[i] = x[int(fs*ti):int(fs*(ti+ts)),:]\n",
        "        label[i] = int(name[-5]) #tipo de genero\n",
        "        name_c += [name[:-6]]\n",
        "        print(f\"{i} lectura: {name}; segundo {ti}:{ti+ts}; tipo música {label[i]}\")\n",
        "        i+=1\n",
        "x_t.shape"
      ],
      "metadata": {
        "id": "nOn4GrOkzZvk"
      },
      "execution_count": null,
      "outputs": []
    },
    {
      "cell_type": "code",
      "source": [
        "from IPython.display import Audio #reproducir segmento\n",
        "i = 10\n",
        "Audio(x_t[i].T,rate=fs)"
      ],
      "metadata": {
        "id": "YM3ltcs6zOHW"
      },
      "execution_count": null,
      "outputs": []
    },
    {
      "cell_type": "code",
      "source": [
        "#calculo de fourier\n",
        "vf = np.fft.rfftfreq(x_t.shape[1],1/fs) #calculo vector de frecuencias\n",
        "Xw = np.fft.rfft(x_t,axis=1).mean(axis=-1) #transformada rapida de Fourier para señal Real a lo largo del tiempo (axis=1) y se promedian los dos canales\n",
        "Xw.shape"
      ],
      "metadata": {
        "id": "qcd1pUoz2KM5"
      },
      "execution_count": null,
      "outputs": []
    },
    {
      "cell_type": "code",
      "source": [
        "#grafica tiempo y fourier\n",
        "plt.plot(np.arange(0,ts,1/fs),x_t.mean(axis=-1).T) #se promedian los dos canales stereo\n",
        "plt.xlabel('t[s]')\n",
        "plt.ylabel('x(t)')\n",
        "plt.show()"
      ],
      "metadata": {
        "id": "NiacFvIx4vpD"
      },
      "execution_count": null,
      "outputs": []
    },
    {
      "cell_type": "code",
      "source": [
        "plt.plot(vf,abs(Xw).T)\n",
        "plt.xlabel('f[Hz]')\n",
        "plt.ylabel('|X(f)|')\n",
        "plt.show()"
      ],
      "metadata": {
        "id": "roZkalWc5cqA"
      },
      "execution_count": null,
      "outputs": []
    },
    {
      "cell_type": "code",
      "source": [
        "#se normalizan espectros entre 0 y 1 para evitar inconsistencias por ampliltudes máximas\n",
        "from sklearn.preprocessing import MinMaxScaler\n",
        "sca = MinMaxScaler()\n",
        "Xw_ = sca.fit_transform(abs(Xw).T).T\n",
        "\n",
        "plt.plot(vf,Xw_.T)\n",
        "plt.xlabel('f[Hz]')\n",
        "plt.ylabel('|X(f)|')\n",
        "plt.show()\n",
        "\n",
        "#en dB\n",
        "plt.plot(vf,(20*np.log10(Xw_+1e-10)).T) # se suma 1e-10 para evitar discontinuidad del log\n",
        "plt.xlabel('f[Hz]')\n",
        "plt.ylabel('|X(f)| dB')\n",
        "plt.show()"
      ],
      "metadata": {
        "id": "DR4Tw83c6b-1"
      },
      "execution_count": null,
      "outputs": []
    },
    {
      "cell_type": "markdown",
      "source": [
        "**Nota**: Generalmente el espectro se presenta en [decibeles [dB]](https://es.wikipedia.org/wiki/Decibelio)"
      ],
      "metadata": {
        "id": "AXaYxHDVQj1L"
      }
    },
    {
      "cell_type": "code",
      "source": [
        "from sklearn.manifold import TSNE\n",
        "from sklearn.decomposition import PCA\n",
        "#visualización de datos\n",
        "red_ = TSNE(perplexity = 20,n_components=2,random_state=123,learning_rate='auto',init='pca')\n",
        "#red_ = PCA(n_components=2,random_state=123)\n",
        "fmax = 7000\n",
        "X_2D = red_.fit_transform(Xw_[:,:fmax]) #se tiene en cuenta el espectro hasta fmax Hz"
      ],
      "metadata": {
        "id": "UZGVCWRk1eAz"
      },
      "execution_count": null,
      "outputs": []
    },
    {
      "cell_type": "code",
      "source": [
        "#graficar separabilidad 2D\n",
        "plt.scatter(X_2D[:,0],X_2D[:,1],c=label)\n",
        "plt.colorbar()\n",
        "plt.show()\n",
        "\n",
        "color_ = [\"b\",\"y\"]\n",
        "#nombre cancion\n",
        "plt.scatter(X_2D[:,0],X_2D[:,1],c=label,s=1)\n",
        "for i, tex in enumerate(name_c):\n",
        "    #print(f\"{i} {tex}\")\n",
        "    plt.text(X_2D[i,0]*1.025,X_2D[i,1]*1.025, tex[:-2]+\"_\"+str(i), fontsize=6,color=color_[int(label[i]-1)])\n",
        "\n",
        "#plt.colorbar()\n",
        "plt.show()"
      ],
      "metadata": {
        "id": "A2Tmfe-57ZEG"
      },
      "execution_count": null,
      "outputs": []
    },
    {
      "cell_type": "code",
      "source": [
        "#reproducir audio\n",
        "i = 10\n",
        "Audio(x_t[i].T,rate=fs)"
      ],
      "metadata": {
        "id": "fubfCcH5CHzN"
      },
      "execution_count": null,
      "outputs": []
    },
    {
      "cell_type": "code",
      "source": [
        "i = 14\n",
        "Audio(x_t[i].T,rate=fs)"
      ],
      "metadata": {
        "id": "z9NRefvJD7Ij"
      },
      "execution_count": null,
      "outputs": []
    },
    {
      "cell_type": "code",
      "source": [
        "import joblib\n",
        "#guardar modelo\n",
        "os.mkdir('modelo')\n",
        "filename_ = 'modelo/reggaeton_vs_metal'\n",
        "model_ ={'Xw_':Xw_,'fmax': fmax, 'label' : label, 'name_c' : name_c, 'vf':vf,'fs':fs}\n",
        "joblib.dump(model_,filename_+\".pkl\")\n"
      ],
      "metadata": {
        "id": "JFDhqdxH79cI"
      },
      "execution_count": null,
      "outputs": []
    },
    {
      "cell_type": "code",
      "source": [
        "#descargar modelo\n",
        "#guardar resultados\n",
        "from google.colab import files\n",
        "from datetime import date, datetime\n",
        "import shutil\n",
        "#guardar resultados\n",
        "namefile = str(datetime.now().strftime(\"%Y_%m_%d_%H_%M_%d\"))+'modelo'\n",
        "shutil.make_archive(namefile, 'zip', 'modelo')\n",
        "files.download(namefile+'.zip')\n",
        "\n",
        "#el archivo .zip puede cargarse en drive y utilizarse en otro cuaderno para detectar género musical de nuevos segmentos"
      ],
      "metadata": {
        "id": "7zWJ8LNQBjNk"
      },
      "execution_count": null,
      "outputs": []
    },
    {
      "cell_type": "code",
      "source": [
        "#cargar modelo\n",
        "my_model_loaded = joblib.load(filename_+\".pkl\")\n",
        "my_model_loaded.keys()"
      ],
      "metadata": {
        "id": "LRJ7txqCA1bI"
      },
      "execution_count": null,
      "outputs": []
    },
    {
      "cell_type": "code",
      "source": [],
      "metadata": {
        "id": "irVPbGdwBIkE"
      },
      "execution_count": null,
      "outputs": []
    },
    {
      "cell_type": "markdown",
      "source": [
        "EJERCICIO 1 DEL CUADERNO DE COLAB"
      ],
      "metadata": {
        "id": "B3csekDcls4y"
      }
    },
    {
      "cell_type": "code",
      "source": [
        "import numpy as np\n",
        "import matplotlib.pyplot as plt\n",
        "\n",
        "A = 1 # Amplitud\n",
        "f = 5  # Frecuencia fundamental en Hz\n",
        "duration = 1 # Duración de la señal en segundos\n",
        "fs = 1000  # Frecuencia de muestreo en Hz\n",
        "N = int(fs * duration)  # Número de puntos de muestreo\n",
        "\n",
        "#Crear una secuencia de tiempo\n",
        "np.arange(A,f,1/fs)\n",
        "\n",
        "#Crear la señal sinusoidal\n",
        "x = A * np.cos(2 * np.pi * f * t)\n",
        "\n",
        "#Calcular la FFT de la señal\n",
        "X = np.fft.fft(x)\n",
        "freq = np.fft.fftfreq(N, 1/fs)\n",
        "\n",
        "#Graficar la señal en el dominio del tiempo\n",
        "plt.subplot(2, 1, 1)\n",
        "plt.plot(t, x)\n",
        "plt.xlabel('Tiempo (s)')\n",
        "plt.ylabel('Amplitud')\n",
        "plt.title('Señal en el dominio del tiempo')\n",
        "\n",
        "#Graficar la magnitud de la FFT (espectro de frecuencia)\n",
        "plt.subplot(2, 1, 2)\n",
        "plt.plot(freq, np.abs(X))\n",
        "plt.xlabel('Frecuencia (Hz)')\n",
        "plt.ylabel('Magnitud')\n",
        "plt.title('Espectro de frecuencia (FFT)')\n",
        "\n",
        "plt.tight_layout()\n",
        "plt.show()"
      ],
      "metadata": {
        "id": "XtYx-MefljOS"
      },
      "execution_count": null,
      "outputs": []
    },
    {
      "cell_type": "markdown",
      "source": [
        "EJERCICIO 2 DEL CUADERNO DE COLAB"
      ],
      "metadata": {
        "id": "TdU5W-q4kE92"
      }
    },
    {
      "cell_type": "code",
      "source": [
        "import numpy as np\n",
        "import time\n",
        "import matplotlib.pyplot as plt\n",
        "\n",
        "# Lista de diferentes longitudes de señal de entrada\n",
        "lengths = [4, 8, 16, 32, 64, 128, 256, 512, 1024, 2048, 4096]\n",
        "\n",
        "# Listas para almacenar los tiempos de ejecución\n",
        "time_dft = []\n",
        "time_fft = []\n",
        "\n",
        "for length in lengths:\n",
        "    # Generar una señal de entrada de longitud 'length'\n",
        "    signal = np.random.rand(length)\n",
        "\n",
        "    # Calcular la DFT mediante la estimación por sumatoria\n",
        "    start_time = time.time()\n",
        "    dft_result = np.fft.fft(signal)\n",
        "    end_time = time.time()\n",
        "    time_dft.append(end_time - start_time)\n",
        "\n",
        "    # Calcular la FFT\n",
        "    start_time = time.time()\n",
        "    fft_result = np.fft.fft(signal)\n",
        "    end_time = time.time()\n",
        "    time_fft.append(end_time - start_time)\n",
        "\n",
        "# Crear una gráfica comparativa\n",
        "plt.plot(lengths, time_dft, label='DFT (Sumatoria)')\n",
        "plt.plot(lengths, time_fft, label='FFT')\n",
        "plt.xlabel('Longitud de la señal de entrada')\n",
        "plt.ylabel('Tiempo de ejecución (s)')\n",
        "plt.legend()\n",
        "plt.title('Comparación de Tiempos de Ejecución')\n",
        "plt.show()"
      ],
      "metadata": {
        "id": "0xMoX7Y6lOHS"
      },
      "execution_count": null,
      "outputs": []
    },
    {
      "cell_type": "markdown",
      "source": [
        "EJERCICIO 3 DEL CUADERNO DE COLAB"
      ],
      "metadata": {
        "id": "WuxVUr6OlcRz"
      }
    },
    {
      "cell_type": "code",
      "source": [],
      "metadata": {
        "id": "JIOhu5JMl5sb"
      },
      "execution_count": null,
      "outputs": []
    },
    {
      "cell_type": "code",
      "metadata": {
        "id": "H9r429U2FU-K"
      },
      "source": [
        "!python3 -m pip install --force-reinstall https://github.com/yt-dlp/yt-dlp/archive/master.tar.gz"
      ],
      "execution_count": null,
      "outputs": []
    },
    {
      "cell_type": "markdown",
      "metadata": {
        "id": "id34_cJvFr4Y"
      },
      "source": [
        "- Se debe incluir el link del video a procesar:"
      ]
    },
    {
      "cell_type": "code",
      "source": [
        "link=\"https://www.youtube.com/watch?v=ctb9uuxJVHQ\"\n",
        "!yt-dlp --extract-audio -o \"audio\" --audio-format mp3 {link}"
      ],
      "metadata": {
        "id": "qEvtxF6qIH9e"
      },
      "execution_count": null,
      "outputs": []
    },
    {
      "cell_type": "markdown",
      "metadata": {
        "id": "Pbl2iVKQGiXx"
      },
      "source": [
        "- Se convierte el audio a .wav para procesar:"
      ]
    },
    {
      "cell_type": "code",
      "metadata": {
        "id": "uJSACNCvGhsp"
      },
      "source": [
        "!ffmpeg -y -i audio.mp3 output.wav"
      ],
      "execution_count": null,
      "outputs": []
    },
    {
      "cell_type": "markdown",
      "metadata": {
        "id": "DstPpk7Mzk_G"
      },
      "source": [
        "Librería para manipulación de archivos de audio"
      ]
    },
    {
      "cell_type": "code",
      "metadata": {
        "id": "4TLC8lowL3o6"
      },
      "source": [
        "!pip install soundfile"
      ],
      "execution_count": null,
      "outputs": []
    },
    {
      "cell_type": "code",
      "metadata": {
        "id": "wo0WaxdNK5rx"
      },
      "source": [
        "import soundfile as sf # para instalar pip install soundfile\n",
        "#lee archivos wav\n",
        "nombre_out = \"output.wav\"\n",
        "x, fs = sf.read(nombre_out)\n",
        "# read speech signal from file\n",
        "print('Frecuencia de muestreo %.2f[Hz]\\naudio %s' % (fs,nombre_out))"
      ],
      "execution_count": null,
      "outputs": []
    },
    {
      "cell_type": "markdown",
      "source": [
        "El audio viene codificado en dos canales:"
      ],
      "metadata": {
        "id": "OdSNTDUpdaTQ"
      }
    },
    {
      "cell_type": "code",
      "source": [
        "x.shape"
      ],
      "metadata": {
        "id": "p5apywbCdYsC"
      },
      "execution_count": null,
      "outputs": []
    },
    {
      "cell_type": "code",
      "metadata": {
        "id": "NuE3Gggposdw"
      },
      "source": [
        "from IPython.display import Audio\n",
        "ns = 30 #se reproducen los primeros ns segundos\n",
        "Audio(x[:int(fs*ns),:].T,rate=fs)"
      ],
      "execution_count": null,
      "outputs": []
    },
    {
      "cell_type": "markdown",
      "source": [
        "- Se gráfica un intervalo de la señal en el tiempo:"
      ],
      "metadata": {
        "id": "n3BMujdjdhVp"
      }
    },
    {
      "cell_type": "code",
      "source": [
        "import numpy as np\n",
        "import matplotlib.pyplot as plt\n",
        "\n",
        "xpro = x.copy() #copiar archivos para procesar\n",
        "ti = 10 #tiempo incio a procesar seg\n",
        "tf = 15 #tiempo final a procesar seg\n",
        "xs = xpro[int(ti*fs):int((tf*fs)),:]\n",
        "\n",
        "tt = np.arange(ti,tf,1/fs) # vector de tiempo\n",
        "plt.plot(tt,xs)\n",
        "plt.legend(('canal 1','canal 2'))\n",
        "plt.xlabel('$t[s]$')\n",
        "plt.ylabel('$x(t)$')\n",
        "plt.legend()\n",
        "plt.show()"
      ],
      "metadata": {
        "id": "jHxsZiicdltZ"
      },
      "execution_count": null,
      "outputs": []
    },
    {
      "cell_type": "markdown",
      "metadata": {
        "id": "ZbJsHYj8HeC6"
      },
      "source": [
        "- Se cálcula el espectro de Fourier del segmento de audio escogido sobre cada canal (sonido estereo)."
      ]
    },
    {
      "cell_type": "code",
      "metadata": {
        "id": "Tb6-m9wFK5r1"
      },
      "source": [
        "Xw = np.fft.rfft(xs,axis=0) # axis=0 permite aplicar fft por cada columna de xpro\n",
        "#Xwc1 = np.fft.rfft(xs[:,0])\n",
        "#Xwc2 = np.fft.rfft(xs[:,1])\n",
        "vf = np.fft.rfftfreq(np.size(xs,0),1/fs) #se crea el vector de frecuencias\n",
        "plt.plot(vf,abs(Xw))#se grafica la magnitud\n",
        "plt.legend(('canal 1','canal 2'))\n",
        "plt.title(r'Espectro audio original')\n",
        "plt.xlabel(r'$f[Hz]$',fontsize = 14)\n",
        "plt.ylabel(r'$|X[n]|$',fontsize = 14)\n",
        "plt.show()"
      ],
      "execution_count": null,
      "outputs": []
    },
    {
      "cell_type": "markdown",
      "source": [
        "- En este caso, se plantea un filtro pasa banda, apagando los armónicos que no nos interesa."
      ],
      "metadata": {
        "id": "ZHNTXzY3gshG"
      }
    },
    {
      "cell_type": "code",
      "metadata": {
        "id": "ImndxlmJK5r7"
      },
      "source": [
        "#filtrar espectro\n",
        "Xwf = Xw.copy()\n",
        "f1 = 500 #frecuencia en Hz corte 1\n",
        "f2 = 1000 #frecuencia en Hz corte 2\n",
        "ind = ~((vf > f1) & (vf < f2)) #frecuencias eliminar-> recueder que ~ actua como negación\n",
        "Xwf[ind,:] = 0\n",
        "plt.plot(vf,abs(Xwf))\n",
        "plt.legend(('canal 1','canal 2'))\n",
        "plt.show()"
      ],
      "execution_count": null,
      "outputs": []
    },
    {
      "cell_type": "markdown",
      "source": [
        "filtro pasa bajos"
      ],
      "metadata": {
        "id": "az8fJiN0skGa"
      }
    },
    {
      "cell_type": "code",
      "source": [
        "#filtrar espectro\n",
        "Xwfb = Xw.copy()\n",
        "f1 = 5000 #frecuencia en Hz corte 1\n",
        "#f2 = 1000 #frecuencia en Hz corte 2\n",
        "ind = ~((vf < f1)) #frecuencias eliminar-> recueder que ~ actua como negación\n",
        "Xwfb[ind,:] = 0\n",
        "plt.plot(vf,abs(Xwfb))\n",
        "plt.legend(('canal 1','canal 2'))\n",
        "plt.show()"
      ],
      "metadata": {
        "id": "NOd_DgIpt7QZ"
      },
      "execution_count": null,
      "outputs": []
    },
    {
      "cell_type": "markdown",
      "source": [
        "filtro pasa altas"
      ],
      "metadata": {
        "id": "WxLIgCf2sob8"
      }
    },
    {
      "cell_type": "code",
      "source": [
        "#filtrar espectro\n",
        "Xwfa = Xw.copy()\n",
        "f1 = 5000 #frecuencia en Hz corte 1\n",
        "#f2 = 1000 #frecuencia en Hz corte 2\n",
        "ind = ~((vf > f1)) #frecuencias eliminar-> recueder que ~ actua como negación\n",
        "Xwfa[ind,:] = 0\n",
        "plt.plot(vf,abs(Xwfa))\n",
        "plt.legend(('canal 1','canal 2'))\n",
        "plt.show()"
      ],
      "metadata": {
        "id": "Q11rloiquQyZ"
      },
      "execution_count": null,
      "outputs": []
    },
    {
      "cell_type": "markdown",
      "source": [
        "filtro rechaza banda"
      ],
      "metadata": {
        "id": "92SzJhmesqgw"
      }
    },
    {
      "cell_type": "code",
      "metadata": {
        "id": "yiG7Erv1ug6J"
      },
      "source": [
        "#filtrar espectro\n",
        "Xwfrr = Xw.copy()\n",
        "f1 = 100 #frecuencia en Hz corte 1\n",
        "f2 = 6000#frecuencia en Hz corte 2\n",
        "ind = ((vf > f1) & (vf < f2)) #frecuencias eliminar-> recueder que ~ actua como negación\n",
        "Xwfrr[ind,:] = 0\n",
        "plt.plot(vf,abs(Xwfrr))\n",
        "plt.legend(('canal 1','canal 2'))\n",
        "plt.show()"
      ],
      "execution_count": null,
      "outputs": []
    },
    {
      "cell_type": "markdown",
      "metadata": {
        "id": "-UcihDJOH36s"
      },
      "source": [
        "- Ahora, se reconstruye la señal mediante la fft inversa."
      ]
    },
    {
      "cell_type": "code",
      "metadata": {
        "id": "wwdabADuK5r_"
      },
      "source": [
        "xe2 = np.fft.irfft(Xwf,axis=0) #fft inversa sobre los dos canales de audio\n",
        "xe2b = np.fft.irfft(Xwfb,axis=0) #fft inversa sobre los dos canales de audio\n",
        "xe2a = np.fft.irfft(Xwfa,axis=0) #fft inversa sobre los dos canales de audio\n",
        "xe2r = np.fft.irfft(Xwfrr,axis=0) #fft inversa sobre los dos canales de audio"
      ],
      "execution_count": null,
      "outputs": []
    },
    {
      "cell_type": "code",
      "metadata": {
        "id": "QREAQlXxpwgq"
      },
      "source": [
        "Audio(xe2[:int(fs*ns),:].T,rate=fs)#señal del filtro pasa banda"
      ],
      "execution_count": null,
      "outputs": []
    },
    {
      "cell_type": "code",
      "metadata": {
        "id": "UzOLbIBtuxoS"
      },
      "source": [
        "Audio(xe2b[:int(fs*ns),:].T,rate=fs)#señal del filtro pasa baja"
      ],
      "execution_count": null,
      "outputs": []
    },
    {
      "cell_type": "code",
      "metadata": {
        "id": "VMYlaOdHux53"
      },
      "source": [
        "Audio(xe2a[:int(fs*ns),:].T,rate=fs)#señal del filtro pasa alta"
      ],
      "execution_count": null,
      "outputs": []
    },
    {
      "cell_type": "code",
      "metadata": {
        "id": "dK_zET3buyBH"
      },
      "source": [
        "Audio(xe2r[:int(fs*ns),:].T,rate=fs)#señal del filtro rechaza banda"
      ],
      "execution_count": null,
      "outputs": []
    },
    {
      "cell_type": "markdown",
      "source": [
        "EJERCICIO 2.5 DEL TALLER"
      ],
      "metadata": {
        "id": "w48PjkV_j50-"
      }
    },
    {
      "cell_type": "code",
      "source": [
        "import numpy as np\n",
        "import matplotlib.pyplot as plt\n",
        "\n",
        "# Parámetros\n",
        "fs = 1000  # Frecuencia de muestreo (Hz)\n",
        "T = 1.0    # Duración de la señal (segundos)\n",
        "t = np.linspace(0, T, int(T * fs), endpoint=False)  # Eje de tiempo\n",
        "\n",
        "# Señal de mensaje tipo pulso rectangular\n",
        "def mensaje_pulso_rectangular(t, duty_cycle):\n",
        "    return np.where(np.mod(t, 1.0) < duty_cycle, 1.0, 0.0)\n",
        "\n",
        "# Señal de mensaje tipo coseno\n",
        "def mensaje_coseno(t):\n",
        "    return np.cos(2 * np.pi * 2 * t)  # Señal coseno de 2 Hz\n",
        "\n",
        "# Parámetros definidos por el usuario\n",
        "m = float(input(\"Ingrese el índice de modulación (entre 0 y 1): \"))\n",
        "duty_cycle = 0.5  # Para la señal de pulso rectangular\n",
        "\n",
        "# Generación de señales moduladas\n",
        "mensaje_rectangular = mensaje_pulso_rectangular(t, duty_cycle)\n",
        "mensaje_cos = mensaje_coseno(t)\n",
        "\n",
        "portadora = np.cos(2 * np.pi * 10 * t)  # Portadora de 10 Hz\n",
        "\n",
        "senal_modulada_rectangular = (1 + m * mensaje_rectangular) * portadora\n",
        "senal_modulada_cos = (1 + m * mensaje_cos) * portadora\n",
        "\n",
        "# Gráficos en el dominio del tiempo\n",
        "plt.figure(figsize=(12, 6))\n",
        "plt.subplot(2, 2, 1)\n",
        "plt.plot(t, mensaje_rectangular)\n",
        "plt.title('Señal de mensaje (Pulso Rectangular)')\n",
        "plt.subplot(2, 2, 2)\n",
        "plt.plot(t, mensaje_cos)\n",
        "plt.title('Señal de mensaje (Coseno)')\n",
        "plt.subplot(2, 2, 3)\n",
        "plt.plot(t, senal_modulada_rectangular)\n",
        "plt.title('Señal Modulada (Pulso Rectangular)')\n",
        "plt.subplot(2, 2, 4)\n",
        "plt.plot(t, senal_modulada_cos)\n",
        "plt.title('Señal Modulada (Coseno)')\n",
        "plt.tight_layout()\n",
        "\n",
        "# Transformada de Fourier de la señal modulada\n",
        "def plot_espectro(senal, titulo):\n",
        "    espectro = np.abs(np.fft.rfft(senal))\n",
        "    frecuencia = np.fft.rfftfreq(len(senal), 1/fs)\n",
        "\n",
        "    plt.figure()\n",
        "    plt.plot(frecuencia, espectro)\n",
        "    plt.title(titulo)\n",
        "    plt.xlabel('Frecuencia (Hz)')\n",
        "    plt.ylabel('Amplitud')\n",
        "\n",
        "plot_espectro(senal_modulada_rectangular, 'Espectro de la Señal Modulada (Pulso Rectangular)')\n",
        "plot_espectro(senal_modulada_cos, 'Espectro de la Señal Modulada (Coseno)')\n",
        "\n",
        "plt.show()"
      ],
      "metadata": {
        "id": "7Vs64pOFkGQR"
      },
      "execution_count": null,
      "outputs": []
    },
    {
      "cell_type": "markdown",
      "source": [],
      "metadata": {
        "id": "XJ4c3PYtkczx"
      }
    }
  ]
}