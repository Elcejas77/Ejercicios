{
  "nbformat": 4,
  "nbformat_minor": 0,
  "metadata": {
    "colab": {
      "provenance": [],
      "authorship_tag": "ABX9TyOoCmLttNthwdgvZlumaqE9",
      "include_colab_link": true
    },
    "kernelspec": {
      "name": "python3",
      "display_name": "Python 3"
    },
    "language_info": {
      "name": "python"
    }
  },
  "cells": [
    {
      "cell_type": "markdown",
      "metadata": {
        "id": "view-in-github",
        "colab_type": "text"
      },
      "source": [
        "<a href=\"https://colab.research.google.com/github/Elcejas77/Ejercicios/blob/main/Ejercicios_de_nivelacion.ipynb\" target=\"_parent\"><img src=\"https://colab.research.google.com/assets/colab-badge.svg\" alt=\"Open In Colab\"/></a>"
      ]
    },
    {
      "cell_type": "code",
      "execution_count": null,
      "metadata": {
        "id": "K-PuuiqFKzz6"
      },
      "outputs": [],
      "source": []
    },
    {
      "cell_type": "markdown",
      "source": [
        "Funciones Utilizadas en los ejercicios"
      ],
      "metadata": {
        "id": "mG_UmR28LZk8"
      }
    },
    {
      "cell_type": "code",
      "source": [
        "import numpy as np\n",
        "import array\n",
        "import math\n"
      ],
      "metadata": {
        "id": "DL7SYYpfMxhM"
      },
      "execution_count": 32,
      "outputs": []
    },
    {
      "cell_type": "markdown",
      "source": [],
      "metadata": {
        "id": "GDXVlDYYZr0K"
      }
    },
    {
      "cell_type": "markdown",
      "source": [
        "# 3)*Ejercicios Loops*"
      ],
      "metadata": {
        "id": "1XEY7dnoLGxb"
      }
    },
    {
      "cell_type": "markdown",
      "source": [
        "Exercise 1\n",
        "\n",
        "Write a code that ask the user to enter an integer number every time, and the process will be repeated with more numbers until the user enters a zero.\n",
        "\n",
        "At the end (when the zero is entered), show the amount of numbers entered."
      ],
      "metadata": {
        "id": "6cEQ4HEN4ODA"
      }
    },
    {
      "cell_type": "code",
      "source": [
        "numing=0 #variable donde estara el contador\n",
        "num=int(input(\"ingrese un numero\")) #numeros de entrada\n",
        "while num!=0:\n",
        "  num=int(input(\"ingrese un numero cualquiera,o 0 para finalizar \"))\n",
        "  numing+=1   #contador\n",
        "\n",
        "print(numing)\n"
      ],
      "metadata": {
        "colab": {
          "base_uri": "https://localhost:8080/"
        },
        "id": "aGl3uNjZ7Ay8",
        "outputId": "3da1e0a0-00a0-4665-bd98-93a35f457bb2"
      },
      "execution_count": 33,
      "outputs": [
        {
          "output_type": "stream",
          "name": "stdout",
          "text": [
            "ingrese un numero0\n",
            "0\n"
          ]
        }
      ]
    },
    {
      "cell_type": "markdown",
      "source": [
        "Exercise 2\n",
        "Use the input() function to ask for the user to enter one integer number. Only if the number is even, it will be accumulated.\n",
        "\n",
        "The program must come to an end if the sum of the numbers surpasses 50 or if the user enters a maximum of 10 numbers."
      ],
      "metadata": {
        "id": "8s-BFauy5BkM"
      }
    },
    {
      "cell_type": "code",
      "source": [
        "suma=0   #variable donde estarfa la suma de los numeros pares\n",
        "cont=0  #variable de la cantidad de numeros ingresador\n",
        "while suma<=50 and cont<10:\n",
        "  numero=int(input(\"ingrese un numero\"))    #se ingresa un digito cualquiera\n",
        "  cont+=1              #contador numeros ingresados\n",
        "  if numero%2==0:\n",
        "      suma+=numero      #suma de numeros pares\n",
        "print(\"la suma de los numeros pares es\",suma)"
      ],
      "metadata": {
        "colab": {
          "base_uri": "https://localhost:8080/"
        },
        "id": "mDCBtoofAeKU",
        "outputId": "9d1f95a7-e844-4e9d-e712-828949b9cd4a"
      },
      "execution_count": 34,
      "outputs": [
        {
          "output_type": "stream",
          "name": "stdout",
          "text": [
            "ingrese un numero80\n",
            "la suma de los numeros pares es 80\n"
          ]
        }
      ]
    },
    {
      "cell_type": "markdown",
      "source": [
        "# 5 Ejercicios Funciones"
      ],
      "metadata": {
        "id": "rYXVqkekZtMX"
      }
    },
    {
      "cell_type": "markdown",
      "source": [
        "Ejercicio 1\n",
        "El área de un triángulo se puede calcular cuando se conoce la longitud de sus lados. Teniendo en cuenta que s1, s2 y s3 ​​son las longitudes de los lados del triángulo, se puede calcular el subperímetro s = (s1+s2+s3)/2, y con este valor se puede calcular el área del triángulo. de lo siguiente: área = √( s * (s-s1) * (s-s2) * (s-s3) ).\n",
        "\n",
        "Crea una función que tome la longitud de los lados del triángulo y devuelva el área del triángulo, redondeada a un decimal.\n",
        "\n",
        "El módulo de matemáticas puede ayudarte a calcular la raíz cuadrada."
      ],
      "metadata": {
        "id": "VAn1QR67Z0JX"
      }
    },
    {
      "cell_type": "code",
      "source": [
        "def Area_triangulo(s1,s2,s3): #se recibe el valor de los lados del triangulo\n",
        " s=(s1+s2+s3)/2      #se calcula el subperimetro del triangulo\n",
        " area=math.sqrt(s*(s-s1)*(s-s2)*(s-s3))  #se usa la libreria math para calcular la raiz cuadrada y obtener el valor de el area\n",
        " area=round(area,2)   #redondeamos el valor del area a 2 decimales para no ocupar demasiado espacio en la memoria\n",
        " print(\"los lados del triangulo son \",s1,s2,s3, \"y su area es de \", area) #se muestran los valores de los lados del triangulo y el valor del area\n"
      ],
      "metadata": {
        "id": "zPVJawhBaFrh"
      },
      "execution_count": 35,
      "outputs": []
    },
    {
      "cell_type": "code",
      "source": [
        "Area_triangulo(10,12,3)"
      ],
      "metadata": {
        "colab": {
          "base_uri": "https://localhost:8080/"
        },
        "id": "iA73cbEJbiwp",
        "outputId": "18dafd7b-eff7-44c2-dd7c-5ce4d8bb68de"
      },
      "execution_count": 36,
      "outputs": [
        {
          "output_type": "stream",
          "name": "stdout",
          "text": [
            "los lados del triangulo son  10 12 3 y su area es de  12.18\n"
          ]
        }
      ]
    },
    {
      "cell_type": "markdown",
      "source": [
        "Ejercicio 2 : Cree una función que pueda calcular el índice de masa corporal (IMC) de una persona.\n",
        "\n",
        "La fórmula para calcular el IMC es la siguiente:\n",
        "\n",
        "IMC = peso/(altura^2)\n",
        "\n",
        "En esta fórmula el peso está en kilogramos y la altura en metros. Tenga en cuenta que el peso y la altura recibidos por su función estarán en libras y pulgadas respectivamente, ya que su función se utilizará en los Estados Unidos.\n",
        "\n",
        "Recuerda eso:\n",
        "\n",
        "1 libra corresponde a 0,45 kg.\n",
        "\n",
        "1 pulgada corresponde a 0,025 metros.\n",
        "\n",
        "El valor devuelto debe redondearse a dos decimales."
      ],
      "metadata": {
        "id": "KiSFwx3ccORh"
      }
    },
    {
      "cell_type": "code",
      "source": [
        "def masa_corporal(p,a):\n",
        "  pk=p*0.45\n",
        "  am=a*0.025\n",
        "  imc=(pk)/(am**2)\n",
        "  imc=round(imc,2)\n",
        "\n",
        "  if imc<18.5:\n",
        "    print(\"Su indice de masa corporal es de\",imc,\",usted tiene un peso muy bajo \")\n",
        "  elif imc>=18.5 and imc<=24.9:\n",
        "    print(\"Su indice de masa corporal es de\",imc,\",y tiene un peso normal \")\n",
        "  elif imc>25 and imc<=29.9:\n",
        "    print(\"Su indice de masa corporal es de\",imc,\" por ende tiene sobrepeso  \")\n",
        "  elif imc>30:\n",
        "    print(\"Su indice de masa corporal es de\",imc,\" a raiz de se encuentra en un estado de obesidad  \")\n"
      ],
      "metadata": {
        "id": "Zn7rwZyVdiwp"
      },
      "execution_count": 143,
      "outputs": []
    },
    {
      "cell_type": "code",
      "source": [
        "#p=float(input(\"ingrese su peso en libras\"))\n",
        "#a=float(input(\"ingrese su\"))\n",
        "masa_corporal(171,69)"
      ],
      "metadata": {
        "colab": {
          "base_uri": "https://localhost:8080/"
        },
        "id": "n6pOhn6ufr1h",
        "outputId": "4090b078-f087-446a-f9ac-6322874fadeb"
      },
      "execution_count": 148,
      "outputs": [
        {
          "output_type": "stream",
          "name": "stdout",
          "text": [
            "Su indice de masa corporal es de 25.86  por ende tiene sobrepeso  \n"
          ]
        }
      ]
    }
  ]
}